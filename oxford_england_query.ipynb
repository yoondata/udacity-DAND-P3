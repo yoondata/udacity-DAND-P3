{
 "cells": [
  {
   "cell_type": "code",
   "execution_count": 1,
   "metadata": {
    "collapsed": true
   },
   "outputs": [],
   "source": [
    "from pymongo import MongoClient\n",
    "import pprint\n",
    "\n",
    "client = MongoClient(\"mongodb://localhost:27017\")\n",
    "db = client.project"
   ]
  },
  {
   "cell_type": "code",
   "execution_count": 2,
   "metadata": {
    "collapsed": false
   },
   "outputs": [
    {
     "data": {
      "text/plain": [
       "324550"
      ]
     },
     "execution_count": 2,
     "metadata": {},
     "output_type": "execute_result"
    }
   ],
   "source": [
    "# Number of documents\n",
    "db.oxford.find().count()"
   ]
  },
  {
   "cell_type": "code",
   "execution_count": 3,
   "metadata": {
    "collapsed": false
   },
   "outputs": [
    {
     "data": {
      "text/plain": [
       "[u'node', u'way', u'relation']"
      ]
     },
     "execution_count": 3,
     "metadata": {},
     "output_type": "execute_result"
    }
   ],
   "source": [
    "db.oxford.distinct( \"category\" )"
   ]
  },
  {
   "cell_type": "code",
   "execution_count": 4,
   "metadata": {
    "collapsed": false
   },
   "outputs": [
    {
     "data": {
      "text/plain": [
       "273182"
      ]
     },
     "execution_count": 4,
     "metadata": {},
     "output_type": "execute_result"
    }
   ],
   "source": [
    "# Number of nodes\n",
    "db.oxford.find( { \"category\" : \"node\" } ).count()"
   ]
  },
  {
   "cell_type": "code",
   "execution_count": 5,
   "metadata": {
    "collapsed": false
   },
   "outputs": [
    {
     "data": {
      "text/plain": [
       "50351"
      ]
     },
     "execution_count": 5,
     "metadata": {},
     "output_type": "execute_result"
    }
   ],
   "source": [
    "# Number of ways\n",
    "db.oxford.find( { \"category\" : \"way\" } ).count()"
   ]
  },
  {
   "cell_type": "code",
   "execution_count": 6,
   "metadata": {
    "collapsed": false
   },
   "outputs": [
    {
     "data": {
      "text/plain": [
       "1017"
      ]
     },
     "execution_count": 6,
     "metadata": {},
     "output_type": "execute_result"
    }
   ],
   "source": [
    "# Number of relations\n",
    "db.oxford.find( { \"category\" : \"relation\" } ).count()"
   ]
  },
  {
   "cell_type": "markdown",
   "metadata": {},
   "source": [
    "### Users"
   ]
  },
  {
   "cell_type": "code",
   "execution_count": 7,
   "metadata": {
    "collapsed": false
   },
   "outputs": [
    {
     "data": {
      "text/plain": [
       "1176"
      ]
     },
     "execution_count": 7,
     "metadata": {},
     "output_type": "execute_result"
    }
   ],
   "source": [
    "# Number of unique users\n",
    "unique_users = db.oxford.distinct( \"created.user\" )\n",
    "len(unique_users)"
   ]
  },
  {
   "cell_type": "code",
   "execution_count": 8,
   "metadata": {
    "collapsed": false
   },
   "outputs": [
    {
     "name": "stdout",
     "output_type": "stream",
     "text": [
      "{u'_id': u'Andrew Chadwick', u'proportion': 0.12107225389000154}\n",
      "{u'_id': u'craigloftus', u'proportion': 0.11503620397473424}\n",
      "{u'_id': u'GordonFS', u'proportion': 0.08929286704668002}\n",
      "{u'_id': u'Max--', u'proportion': 0.05713141272531197}\n",
      "{u'_id': u'Richard Mann', u'proportion': 0.05309813588044986}\n"
     ]
    }
   ],
   "source": [
    "# Top 5 contributing users\n",
    "top_users = db.oxford.aggregate([\n",
    "        { \"$group\" : { \"_id\" : \"$created.user\",\n",
    "                       \"count\" : { \"$sum\" : 1 } } },\n",
    "        { \"$project\" : { \"proportion\" : { \"$divide\" : [ \"$count\", 324550 ] } } },\n",
    "        { \"$sort\" : { \"proportion\" : -1 } },\n",
    "        { \"$limit\" : 5 }   # Getting only the top 5\n",
    "    ])\n",
    "\n",
    "for user in top_users:\n",
    "    pprint.pprint(user)"
   ]
  },
  {
   "cell_type": "markdown",
   "metadata": {},
   "source": [
    "### Amenities"
   ]
  },
  {
   "cell_type": "code",
   "execution_count": 9,
   "metadata": {
    "collapsed": false
   },
   "outputs": [
    {
     "data": {
      "text/plain": [
       "3682"
      ]
     },
     "execution_count": 9,
     "metadata": {},
     "output_type": "execute_result"
    }
   ],
   "source": [
    "# Number of amenities\n",
    "db.oxford.find( { \"amenity\" : { \"$exists\" : 1 } } ).count()"
   ]
  },
  {
   "cell_type": "code",
   "execution_count": 10,
   "metadata": {
    "collapsed": false
   },
   "outputs": [
    {
     "data": {
      "text/plain": [
       "124"
      ]
     },
     "execution_count": 10,
     "metadata": {},
     "output_type": "execute_result"
    }
   ],
   "source": [
    "# Number of unique amenities\n",
    "unique_amenities = db.oxford.distinct( \"amenity\" )\n",
    "len(unique_amenities)"
   ]
  },
  {
   "cell_type": "code",
   "execution_count": 11,
   "metadata": {
    "collapsed": false
   },
   "outputs": [
    {
     "name": "stdout",
     "output_type": "stream",
     "text": [
      "{u'_id': u'parking', u'proportion': 0.20369364475828355}\n",
      "{u'_id': u'bicycle_parking', u'proportion': 0.14095600217273221}\n",
      "{u'_id': u'post_box', u'proportion': 0.09016838674633351}\n",
      "{u'_id': u'bench', u'proportion': 0.049429657794676805}\n",
      "{u'_id': u'place_of_worship', u'proportion': 0.045898967952199894}\n",
      "{u'_id': u'pub', u'proportion': 0.04481260184682238}\n",
      "{u'_id': u'telephone', u'proportion': 0.038565996740901685}\n",
      "{u'_id': u'restaurant', u'proportion': 0.03476371537208039}\n",
      "{u'_id': u'school', u'proportion': 0.031233025529603477}\n",
      "{u'_id': u'cafe', u'proportion': 0.029060293318848452}\n"
     ]
    }
   ],
   "source": [
    "# 10 most numerous amenities\n",
    "top_amenities = db.oxford.aggregate([\n",
    "        { \"$match\" : { \"amenity\" : { \"$exists\" : 1 } } },\n",
    "        { \"$group\" : { \"_id\" : \"$amenity\",\n",
    "                       \"count\" : { \"$sum\" : 1 } } },\n",
    "        { \"$project\" : { \"proportion\" : { \"$divide\" : [ \"$count\", 3682 ] } } },\n",
    "        { \"$sort\" : { \"proportion\" : -1 } },\n",
    "        { \"$limit\" : 10 }   # Getting only the top 10\n",
    "    ])\n",
    "\n",
    "for amenity in top_amenities:\n",
    "    pprint.pprint(amenity)"
   ]
  },
  {
   "cell_type": "markdown",
   "metadata": {},
   "source": [
    "It is quite interesting that there are more places of worship than restaurants or cafes! Could this mean that Oxford is a highly religious city? It is also noteworthy that bicycle parking is the second most numerous amenity. This in fact agrees with our conception of Oxford as a college town."
   ]
  },
  {
   "cell_type": "markdown",
   "metadata": {},
   "source": [
    "### Buildings"
   ]
  },
  {
   "cell_type": "code",
   "execution_count": 12,
   "metadata": {
    "collapsed": false
   },
   "outputs": [
    {
     "data": {
      "text/plain": [
       "20760"
      ]
     },
     "execution_count": 12,
     "metadata": {},
     "output_type": "execute_result"
    }
   ],
   "source": [
    "# Number of buildings\n",
    "db.oxford.find( { \"building\" : { \"$exists\" : 1 } } ).count()"
   ]
  },
  {
   "cell_type": "code",
   "execution_count": 13,
   "metadata": {
    "collapsed": false
   },
   "outputs": [
    {
     "name": "stdout",
     "output_type": "stream",
     "text": [
      "{u'_id': ObjectId('570fec362054c17a26f47f42'), u'level': u'9'}\n"
     ]
    }
   ],
   "source": [
    "# Level of the highest building\n",
    "highest_bldg = db.oxford.aggregate([\n",
    "        { \"$match\" : { \"building.levels.basic_info\" : { \"$exists\" : 1 } } },\n",
    "        { \"$project\" : { \"level\" : \"$building.levels.basic_info\" } },\n",
    "        { \"$sort\" : { \"level\" : -1 } },\n",
    "        { \"$limit\" : 1 }   # Getting only the top 1\n",
    "    ])\n",
    "\n",
    "for building in highest_bldg:\n",
    "    pprint.pprint(building)"
   ]
  },
  {
   "cell_type": "code",
   "execution_count": 14,
   "metadata": {
    "collapsed": false
   },
   "outputs": [
    {
     "name": "stdout",
     "output_type": "stream",
     "text": [
      "{u'_id': u'1', u'proportion': 0.47619047619047616}\n",
      "{u'_id': u'2', u'proportion': 0.19327731092436976}\n",
      "{u'_id': u'4', u'proportion': 0.1400560224089636}\n"
     ]
    }
   ],
   "source": [
    "# Predominant building levels\n",
    "num_bldgs_level = db.oxford.find( { \"building.levels.basic_info\" : { \"$exists\" : 1 } } ).count()\n",
    "most_num_level = db.oxford.aggregate([\n",
    "        { \"$match\" : { \"building.levels.basic_info\" : { \"$exists\" : 1 } } },\n",
    "        { \"$group\" : { \"_id\" : \"$building.levels.basic_info\",\n",
    "                       \"count\" : { \"$sum\" : 1 } } },\n",
    "        { \"$project\" : { \"proportion\" : { \"$divide\" : [ \"$count\", num_bldgs_level ] } } },\n",
    "        { \"$sort\" : { \"proportion\" : -1 } },\n",
    "        { \"$limit\" : 3 }   # Getting only the top 3\n",
    "    ])\n",
    "\n",
    "for level in most_num_level:\n",
    "    pprint.pprint(level)"
   ]
  },
  {
   "cell_type": "markdown",
   "metadata": {},
   "source": [
    "The result shows that 9 is the highest building level in Oxford and one-story buildings are predominant in the city. This also agrees with our conception of Oxford as a college town."
   ]
  },
  {
   "cell_type": "markdown",
   "metadata": {},
   "source": [
    "### Religion"
   ]
  },
  {
   "cell_type": "markdown",
   "metadata": {},
   "source": [
    "We noted earlier that Oxford seems a religious city. Then, a natural question to ask is: What do they believe? Let's try to answer it through our data."
   ]
  },
  {
   "cell_type": "code",
   "execution_count": 15,
   "metadata": {
    "collapsed": false
   },
   "outputs": [
    {
     "data": {
      "text/plain": [
       "[u'christian',\n",
       " u'muslim',\n",
       " u'buddhist',\n",
       " u'jewish',\n",
       " u'spiritualist',\n",
       " u'multifaith']"
      ]
     },
     "execution_count": 15,
     "metadata": {},
     "output_type": "execute_result"
    }
   ],
   "source": [
    "# Religion in Oxford\n",
    "db.oxford.distinct( \"religion\" )"
   ]
  },
  {
   "cell_type": "code",
   "execution_count": 16,
   "metadata": {
    "collapsed": false
   },
   "outputs": [
    {
     "name": "stdout",
     "output_type": "stream",
     "text": [
      "{u'_id': u'christian', u'proportion': 0.9371980676328503}\n",
      "{u'_id': u'muslim', u'proportion': 0.024154589371980676}\n",
      "{u'_id': u'jewish', u'proportion': 0.014492753623188406}\n",
      "{u'_id': u'buddhist', u'proportion': 0.014492753623188406}\n",
      "{u'_id': u'multifaith', u'proportion': 0.004830917874396135}\n",
      "{u'_id': u'spiritualist', u'proportion': 0.004830917874396135}\n"
     ]
    }
   ],
   "source": [
    "# Religion by level of representation\n",
    "num_doc_religion = db.oxford.find( { \"religion\" : { \"$exists\" : 1 } } ).count()\n",
    "religion_by_num = db.oxford.aggregate([\n",
    "        { \"$match\" : { \"religion\" : { \"$exists\" : 1 } } },\n",
    "        { \"$group\" : { \"_id\" : \"$religion\",\n",
    "                       \"count\" : { \"$sum\" : 1 } } },\n",
    "        { \"$project\" : { \"proportion\" : { \"$divide\" : [ \"$count\", 207 ] } } },\n",
    "        { \"$sort\" : { \"proportion\" : -1 } }\n",
    "    ])\n",
    "\n",
    "for faith in religion_by_num:\n",
    "    pprint.pprint(faith)"
   ]
  },
  {
   "cell_type": "markdown",
   "metadata": {},
   "source": [
    "As expected, Christianity is the predominant religion in Oxford. But the extreme level of predominance is still quite surprising, especially against the backdrop of the city's being a college town (where new ideas and practices are often prevalent)."
   ]
  }
 ],
 "metadata": {
  "kernelspec": {
   "display_name": "Python 2",
   "language": "python",
   "name": "python2"
  },
  "language_info": {
   "codemirror_mode": {
    "name": "ipython",
    "version": 2
   },
   "file_extension": ".py",
   "mimetype": "text/x-python",
   "name": "python",
   "nbconvert_exporter": "python",
   "pygments_lexer": "ipython2",
   "version": "2.7.11"
  }
 },
 "nbformat": 4,
 "nbformat_minor": 0
}
