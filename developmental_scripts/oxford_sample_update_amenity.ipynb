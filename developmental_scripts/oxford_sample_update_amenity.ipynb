{
 "cells": [
  {
   "cell_type": "code",
   "execution_count": 1,
   "metadata": {
    "collapsed": true
   },
   "outputs": [],
   "source": [
    "# \"k\" values related to amenity\n",
    "amenity_k = [ 'amenity',\n",
    "              'amenity:disused' ]"
   ]
  },
  {
   "cell_type": "code",
   "execution_count": null,
   "metadata": {
    "collapsed": true
   },
   "outputs": [],
   "source": [
    "import os\n",
    "os.chdir(\"..\")"
   ]
  },
  {
   "cell_type": "code",
   "execution_count": 2,
   "metadata": {
    "collapsed": false
   },
   "outputs": [],
   "source": [
    "from audit import audit_k_v\n",
    "import pprint\n",
    "import re\n",
    "\n",
    "SAMPLE = \"oxford_sample.osm\"\n",
    "\n",
    "all_k_v_dict = audit_k_v(SAMPLE, [\"node\", \"way\", \"relation\"])"
   ]
  },
  {
   "cell_type": "code",
   "execution_count": 3,
   "metadata": {
    "collapsed": false,
    "scrolled": true
   },
   "outputs": [
    {
     "name": "stdout",
     "output_type": "stream",
     "text": [
      "amenity\n",
      "set(['Wellbeing_service',\n",
      "     'advice_service',\n",
      "     'arts_centre',\n",
      "     'atm',\n",
      "     'ballot_box',\n",
      "     'bank',\n",
      "     'bar',\n",
      "     'bench',\n",
      "     'bicycle_parking',\n",
      "     'bicycle_rental',\n",
      "     'biergarten',\n",
      "     'binstore',\n",
      "     'bureau_de_change',\n",
      "     'cafe',\n",
      "     'childcare',\n",
      "     'clock',\n",
      "     'college',\n",
      "     'community_centre',\n",
      "     'compound',\n",
      "     'dentist',\n",
      "     'doctors',\n",
      "     'fast_food',\n",
      "     'fountain',\n",
      "     'fuel',\n",
      "     'grave_yard',\n",
      "     'hide',\n",
      "     'hospice',\n",
      "     'hospital',\n",
      "     'kindergarten',\n",
      "     'library',\n",
      "     'motorcycle_parking',\n",
      "     'parking',\n",
      "     'parking_entrance',\n",
      "     'parking_space',\n",
      "     'pharmacy',\n",
      "     'place_of_worship',\n",
      "     'post_box',\n",
      "     'post_office',\n",
      "     'pub',\n",
      "     'public_building',\n",
      "     'recycling',\n",
      "     'restaurant',\n",
      "     'school',\n",
      "     'scout_hut',\n",
      "     'social_facility',\n",
      "     'telephone',\n",
      "     'theatre',\n",
      "     'toilets',\n",
      "     'training_and_support_centre',\n",
      "     'university',\n",
      "     'vending_machine',\n",
      "     'veterinary',\n",
      "     'washingline',\n",
      "     'waste_basket'])\n",
      "\n",
      "\n",
      "amenity:disused\n",
      "set(['pub'])\n",
      "\n",
      "\n"
     ]
    }
   ],
   "source": [
    "# Auditing \"k\" values related to amenity\n",
    "for each_k in amenity_k:\n",
    "    print each_k\n",
    "    pprint.pprint( all_k_v_dict[each_k] )\n",
    "    print \"\\n\""
   ]
  },
  {
   "cell_type": "markdown",
   "metadata": {},
   "source": [
    "### Updating amenity types"
   ]
  },
  {
   "cell_type": "markdown",
   "metadata": {},
   "source": [
    "\"v\" values for \"amenity\" seem alright except that some values contain uppercase letters. Let's ensure that only lowercase letters are used."
   ]
  },
  {
   "cell_type": "code",
   "execution_count": 14,
   "metadata": {
    "collapsed": true
   },
   "outputs": [],
   "source": [
    "# Writing a function that updates an amenity type\n",
    "\n",
    "str_capital = re.compile(r'[A-Z]')\n",
    "\n",
    "def update_amenity_type(string):\n",
    "    if str_capital.search(string):\n",
    "        string = string.lower()\n",
    "    return string"
   ]
  },
  {
   "cell_type": "code",
   "execution_count": 15,
   "metadata": {
    "collapsed": false
   },
   "outputs": [
    {
     "data": {
      "text/plain": [
       "'wellbeing_service'"
      ]
     },
     "execution_count": 15,
     "metadata": {},
     "output_type": "execute_result"
    }
   ],
   "source": [
    "# Testing the function\n",
    "update_amenity_type(\"Wellbeing_service\")"
   ]
  },
  {
   "cell_type": "markdown",
   "metadata": {},
   "source": [
    "### Updating disused amenities"
   ]
  },
  {
   "cell_type": "markdown",
   "metadata": {},
   "source": [
    "The standard currently followed by OpenStreetMap seems that map features not in use should be specified as \"disused\" first and then be described in detail (http://wiki.openstreetmap.org/wiki/Key:disused:). We also find in our data set such fields as \"disused:amenity\" and \"disused:highway\". We follow the same scheme in our transformation later."
   ]
  },
  {
   "cell_type": "markdown",
   "metadata": {},
   "source": [
    "### Putting it all together: Transforming data related to amenity"
   ]
  },
  {
   "cell_type": "code",
   "execution_count": null,
   "metadata": {
    "collapsed": true
   },
   "outputs": [],
   "source": [
    "# Writing a function that transforms data related to amenity\n",
    "\n",
    "\n",
    "def transform_amenity_k_v(amenity_k, amenity_v):\n",
    "    \n",
    "    transformed_k = \"\"\n",
    "    transformed_v = \"\"\n",
    "    \n",
    "    #######  Transform k  #######\n",
    "    \n",
    "    if amenity_k in [\"amenity\", \"amenity:disused\"]:\n",
    "        transformed_k = \"amenity\"\n",
    "    \n",
    "    # Exception handling: Return the original for later auditing and cleaning\n",
    "    else:\n",
    "        transformed_k = amenity_k\n",
    "    \n",
    "    #######  Transform v  #######\n",
    "    \n",
    "    if amenity_k in [\"amenity\", \"amenity:disused\"]:\n",
    "        transformed_v = update_amenity_type(amenity_v)\n",
    "    \n",
    "    # Exception handling: Return the original for later auditing and cleaning\n",
    "    else:\n",
    "        transformed_v = amenity_v\n",
    "    \n",
    "    return (transformed_k, transformed_v)"
   ]
  }
 ],
 "metadata": {
  "kernelspec": {
   "display_name": "Python 2",
   "language": "python",
   "name": "python2"
  },
  "language_info": {
   "codemirror_mode": {
    "name": "ipython",
    "version": 2
   },
   "file_extension": ".py",
   "mimetype": "text/x-python",
   "name": "python",
   "nbconvert_exporter": "python",
   "pygments_lexer": "ipython2",
   "version": "2.7.11"
  }
 },
 "nbformat": 4,
 "nbformat_minor": 0
}
